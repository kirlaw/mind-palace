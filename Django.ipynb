{
 "cells": [
  {
   "cell_type": "markdown",
   "id": "bright-prison",
   "metadata": {},
   "source": [
    "### 1.为什么用Django不用flask\n",
    "\n",
    "django更适合新手，集成很多可直接使用的模块，提高开发效率\n",
    "\n",
    "flask更灵活，适合经验丰富的开发者"
   ]
  },
  {
   "cell_type": "markdown",
   "id": "honey-atlantic",
   "metadata": {},
   "source": [
    "### 2.drf的优缺点\n",
    "\n",
    "Django REST framework是一个建立在Django基础之上的Web应用开发框架，可以快速的开发REST API接口应用\n",
    "\n",
    "**优点：**\n",
    "\n",
    "1.提供了定义序列化器Serializer的方法,可以快速根据Django ORM 或者其他库自动序列化/反序列化\n",
    "\n",
    "2.提供了丰富的类视图\\MIXIN扩展类,简化视图的编写\n",
    "\n",
    "3.丰富的定制层级；\n",
    "\n",
    "4.函数视图、类视图、视图集合到自动生成 API，满足各种需要；\n",
    "\n",
    "5.提供了认证、权限、限流、过滤、分页、接口文档等功能支持。多种身份认证和权限认证方式的支持；内置了限流系统\n",
    "\n",
    "6.直观的API web界面方便查看测试接口\n",
    "\n",
    "7.可扩展性,插件丰富\n",
    "\n",
    "**缺点：**\n",
    "\n",
    "不够灵活，过度封装"
   ]
  },
  {
   "cell_type": "markdown",
   "id": "exclusive-craft",
   "metadata": {},
   "source": [
    "### 3. django中间件\n",
    "\n",
    "中间件一般做认证或批量请求处理，django中的中间件，其实是一个类，在请求和结束后，django会根据自己的规则在合适的时机执行中间件中相应的方法，如请求过来 执行process_request, view，process_response方法"
   ]
  },
  {
   "cell_type": "markdown",
   "id": "approximate-shaft",
   "metadata": {},
   "source": [
    "### 4. nginx+uwsig为django提供高并发"
   ]
  },
  {
   "cell_type": "markdown",
   "id": "multiple-pharmaceutical",
   "metadata": {},
   "source": [
    "### 5.什么是ORM？\n",
    "\n",
    "ORM，即Object-Relational Mapping（对象关系映射），它的作用是在关系型数据库和业务实体对象之间做一个映射\n",
    "\n",
    "优点：摆脱复杂的SQL操作，适应快速开发，让数据结果变得简单，数据库迁移成本更低\n",
    "\n",
    "缺点：性能较差，不适用于大型应用，复杂的SQL操作还需要通过SQL语句实现"
   ]
  },
  {
   "cell_type": "markdown",
   "id": "unsigned-forwarding",
   "metadata": {},
   "source": [
    "### 6. Django的Form主要具有什么功能？\n",
    "\n",
    "生成HTML标签，验证用户数据 is_vaild，HTML Form提交保留上次提交数据，初始化页面显示内容"
   ]
  },
  {
   "cell_type": "markdown",
   "id": "thousand-patrick",
   "metadata": {},
   "source": [
    "### 7. django的请求生命周期\n",
    "\n",
    "请求来了先到uwsgi，把请求一部分分装给django框架，然后经过所有的中间件，路由，视图，视图处理再返回给中间件，中间件再返回给uwsgi，再返回给用户。"
   ]
  },
  {
   "cell_type": "markdown",
   "id": "furnished-hybrid",
   "metadata": {},
   "source": [
    "### 8.设计restful接口的原则是什么\n",
    "\n",
    "一切皆资源，对于资源的操作采用GET，POST，PUT，DELETE方法来操作，而不是设计新的url去做"
   ]
  },
  {
   "cell_type": "code",
   "execution_count": null,
   "id": "narrow-institution",
   "metadata": {},
   "outputs": [],
   "source": []
  }
 ],
 "metadata": {
  "kernelspec": {
   "display_name": "Python 3",
   "language": "python",
   "name": "python3"
  },
  "language_info": {
   "codemirror_mode": {
    "name": "ipython",
    "version": 3
   },
   "file_extension": ".py",
   "mimetype": "text/x-python",
   "name": "python",
   "nbconvert_exporter": "python",
   "pygments_lexer": "ipython3",
   "version": "3.8.7"
  }
 },
 "nbformat": 4,
 "nbformat_minor": 5
}
