{
 "cells": [
  {
   "cell_type": "markdown",
   "id": "basic-management",
   "metadata": {},
   "source": [
    "### 1.为什么用Django不用flask\n",
    "\n",
    "django更适合新手，集成很多可直接使用的模块，提高开发效率\n",
    "\n",
    "flask更灵活，适合经验丰富的开发者"
   ]
  },
  {
   "cell_type": "markdown",
   "id": "needed-christopher",
   "metadata": {},
   "source": [
    "### 2.drf的优缺点\n",
    "\n",
    "Django REST framework是一个建立在Django基础之上的Web应用开发框架，可以快速的开发REST API接口应用\n",
    "\n",
    "**优点：**\n",
    "\n",
    "1.提供了定义序列化器Serializer的方法,可以快速根据Django ORM 或者其他库自动序列化/反序列化\n",
    "\n",
    "2.提供了丰富的类视图\\MIXIN扩展类,简化视图的编写\n",
    "\n",
    "3.丰富的定制层级；\n",
    "\n",
    "4.函数视图、类视图、视图集合到自动生成 API，满足各种需要；\n",
    "\n",
    "5.提供了认证、权限、限流、过滤、分页、接口文档等功能支持。多种身份认证和权限认证方式的支持；内置了限流系统\n",
    "\n",
    "6.直观的API web界面方便查看测试接口\n",
    "\n",
    "7.可扩展性,插件丰富\n",
    "\n",
    "**缺点：**\n",
    "\n",
    "不够灵活，过度封装"
   ]
  },
  {
   "cell_type": "code",
   "execution_count": null,
   "id": "athletic-boston",
   "metadata": {},
   "outputs": [],
   "source": []
  }
 ],
 "metadata": {
  "kernelspec": {
   "display_name": "Python 3",
   "language": "python",
   "name": "python3"
  },
  "language_info": {
   "codemirror_mode": {
    "name": "ipython",
    "version": 3
   },
   "file_extension": ".py",
   "mimetype": "text/x-python",
   "name": "python",
   "nbconvert_exporter": "python",
   "pygments_lexer": "ipython3",
   "version": "3.8.7"
  }
 },
 "nbformat": 4,
 "nbformat_minor": 5
}
