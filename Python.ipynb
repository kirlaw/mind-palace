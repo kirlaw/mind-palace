{
 "cells": [
  {
   "cell_type": "markdown",
   "id": "excited-sender",
   "metadata": {},
   "source": [
    "### 1. 可变与不可变类型\n",
    "\n",
    "可变类型：列表、字典、可变集合\n",
    "\n",
    "不可变类型：数字、字符串、元组、不可变集合"
   ]
  },
  {
   "cell_type": "markdown",
   "id": "compatible-offense",
   "metadata": {},
   "source": [
    "### 2. 深拷贝与浅拷贝\n",
    "\n",
    "浅拷贝只复制指向某个对象的引用地址，而不复制对象本身，新旧对象还是共享同一块内存。\n",
    "\n",
    "深拷贝会另外创造一个一模一样的对象，新对象跟原对象不共享内存，修改新对象不会改到原对象。"
   ]
  },
  {
   "cell_type": "code",
   "execution_count": 1,
   "id": "supposed-characteristic",
   "metadata": {},
   "outputs": [
    {
     "name": "stdout",
     "output_type": "stream",
     "text": [
      "[[11, 22], [22, 33]]\n",
      "[[11, 22], [22, 33]]\n",
      "[11, 22]\n",
      "[[11, 22, 44], [22, 33]]\n",
      "[[11, 22, 44], [22, 33]]\n",
      "[11, 22]\n"
     ]
    }
   ],
   "source": [
    "import copy as cp\n",
    "a = [11,22]\n",
    "b = [22,33]\n",
    "c = [a,b]\n",
    "d = cp.copy(c)\n",
    "e = cp.deepcopy(a)\n",
    "print(c)\n",
    "print(d)\n",
    "print(e)\n",
    "a.append(44)\n",
    "print(c)\n",
    "print(d)\n",
    "print(e)"
   ]
  },
  {
   "cell_type": "markdown",
   "id": "disciplinary-belly",
   "metadata": {},
   "source": [
    "### 3. 一行代码实现1-100之和"
   ]
  },
  {
   "cell_type": "code",
   "execution_count": 2,
   "id": "intended-subscription",
   "metadata": {},
   "outputs": [
    {
     "name": "stdout",
     "output_type": "stream",
     "text": [
      "5050\n"
     ]
    }
   ],
   "source": [
    "print(sum(range(1,101)))"
   ]
  },
  {
   "cell_type": "markdown",
   "id": "unusual-conclusion",
   "metadata": {},
   "source": [
    "### 4. 如何在一个函数内部修改全局变量"
   ]
  },
  {
   "cell_type": "code",
   "execution_count": 3,
   "id": "cardiovascular-bearing",
   "metadata": {},
   "outputs": [
    {
     "name": "stdout",
     "output_type": "stream",
     "text": [
      "4\n"
     ]
    }
   ],
   "source": [
    "a = 5\n",
    "def fun():\n",
    "    global a\n",
    "    a = 4\n",
    "\n",
    "fun()\n",
    "print(a)    "
   ]
  },
  {
   "cell_type": "markdown",
   "id": "compressed-there",
   "metadata": {},
   "source": [
    "### 5. 列出5个python库\n",
    "\n",
    "- os: 提供与操作系统相关联的函数\n",
    "- time: 处理时间和日期\n",
    "- re: 正则区配\n",
    "- math：数学运算\n",
    "- sys：常用于命令行参数"
   ]
  },
  {
   "cell_type": "markdown",
   "id": "unlikely-finder",
   "metadata": {},
   "source": [
    "### 6. 字典如何删除键和合并两个字典"
   ]
  },
  {
   "cell_type": "code",
   "execution_count": 4,
   "id": "indian-smile",
   "metadata": {},
   "outputs": [
    {
     "name": "stdout",
     "output_type": "stream",
     "text": [
      "{'name': 'mike'}\n",
      "{'name': 'mike', 'age': 22}\n"
     ]
    }
   ],
   "source": [
    "d = {'name':'mike', 'age':17}\n",
    "del d['age']\n",
    "print(d)\n",
    "\n",
    "d1 = {'age':22}\n",
    "d.update(d1)\n",
    "print(d)"
   ]
  },
  {
   "cell_type": "markdown",
   "id": "opposite-index",
   "metadata": {},
   "source": [
    "### 7. 斐波那契数列"
   ]
  },
  {
   "cell_type": "code",
   "execution_count": 5,
   "id": "governing-letters",
   "metadata": {},
   "outputs": [
    {
     "name": "stdout",
     "output_type": "stream",
     "text": [
      "5\n",
      "1\n",
      "1\n",
      "2\n",
      "3\n",
      "5\n"
     ]
    }
   ],
   "source": [
    "def fab(n):\n",
    "    x,a,b = 0,0,1\n",
    "    while x<n:\n",
    "        print(b)\n",
    "        a,b = b,a+b\n",
    "        x+=1\n",
    "\n",
    "n = int(input())\n",
    "fab(n)"
   ]
  },
  {
   "cell_type": "markdown",
   "id": "fallen-match",
   "metadata": {},
   "source": [
    "直接在 fab 函数中用 print 打印数字会导致该函数可复用性较差，因为 fab 函数返回 None，其他函数无法获得该函数生成的数列。"
   ]
  },
  {
   "cell_type": "code",
   "execution_count": 6,
   "id": "narrative-midnight",
   "metadata": {},
   "outputs": [
    {
     "name": "stdout",
     "output_type": "stream",
     "text": [
      "5\n",
      "[1, 1, 2, 3, 5]\n"
     ]
    }
   ],
   "source": [
    "def fab(n):\n",
    "    x,a,b = 0,0,1\n",
    "    L = []\n",
    "    while x<n:\n",
    "        L.append(b)\n",
    "        a,b = b,a+b\n",
    "        x+=1\n",
    "    return L\n",
    "        \n",
    "n = int(input())\n",
    "print(fab(n))        "
   ]
  },
  {
   "cell_type": "markdown",
   "id": "usual-genome",
   "metadata": {},
   "source": [
    "该函数在运行中占用的内存会随着参数n的增大而增大，如果要控制内存占用，最好不要用List来保存中间结果，而是通过 iterable 对象来迭代。\n",
    "\n",
    "yield 的作用就是把一个函数变成一个 generator, 调用 fab(5)不会执行 fab 函数，而是返回一个 iterable 对象"
   ]
  },
  {
   "cell_type": "code",
   "execution_count": 7,
   "id": "acknowledged-lancaster",
   "metadata": {},
   "outputs": [
    {
     "name": "stdout",
     "output_type": "stream",
     "text": [
      "1\n",
      "1\n",
      "2\n",
      "3\n",
      "5\n"
     ]
    }
   ],
   "source": [
    "def fab(max): \n",
    "    n, a, b = 0, 0, 1 \n",
    "    while n < max: \n",
    "        yield b      # 使用 yield\n",
    "        # print b \n",
    "        a, b = b, a + b \n",
    "        n = n + 1\n",
    "\n",
    "for i in fab(5):\n",
    "    print(i)"
   ]
  },
  {
   "cell_type": "markdown",
   "id": "brave-congress",
   "metadata": {},
   "source": [
    "###  8.  迭代器与生成器\n",
    "\n",
    "迭代器是一个可以记住遍历的位置的对象。\n",
    "\n",
    "迭代器对象从集合的第一个元素开始访问，直到所有的元素被访问完结束。迭代器只能往前不会后退。\n",
    "\n",
    "字符串，列表或元组对象都可用于创建迭代器"
   ]
  },
  {
   "cell_type": "code",
   "execution_count": 8,
   "id": "noted-scenario",
   "metadata": {},
   "outputs": [
    {
     "name": "stdout",
     "output_type": "stream",
     "text": [
      "1\n",
      "2\n",
      "3\n",
      "4\n",
      "2 3 4 5 "
     ]
    }
   ],
   "source": [
    "list = [1,2,3,4]\n",
    "it = iter(list)\n",
    "for i in range(4):\n",
    "    print(next(it))\n",
    "    \n",
    "list1= [2,3,4,5]\n",
    "it1 = iter(list1)\n",
    "for j in it1:\n",
    "    print(j,end=' ')"
   ]
  },
  {
   "cell_type": "markdown",
   "id": "assured-framing",
   "metadata": {},
   "source": [
    "用类来实现迭代器\n",
    "\n",
    "StopIteration 异常用于标识迭代的完成，防止出现无限循环的情况"
   ]
  },
  {
   "cell_type": "code",
   "execution_count": 9,
   "id": "professional-portugal",
   "metadata": {},
   "outputs": [
    {
     "name": "stdout",
     "output_type": "stream",
     "text": [
      "1\n",
      "2\n",
      "3\n",
      "4\n",
      "5\n",
      "6\n",
      "7\n",
      "8\n",
      "9\n",
      "10\n",
      "11\n",
      "12\n",
      "13\n",
      "14\n",
      "15\n",
      "16\n",
      "17\n",
      "18\n",
      "19\n"
     ]
    }
   ],
   "source": [
    "class AddNumber(object):\n",
    "    def __iter__(self):\n",
    "        self.a = 1\n",
    "        return self\n",
    "    \n",
    "    def __next__(self):\n",
    "        if self.a < 20:\n",
    "            x=self.a\n",
    "            self.a+=1\n",
    "            return x\n",
    "        else:\n",
    "            raise StopIteration\n",
    "\n",
    "num = AddNumber()\n",
    "numiter = iter(num)\n",
    "for i in numiter:\n",
    "    print(i)"
   ]
  },
  {
   "cell_type": "markdown",
   "id": "improving-tattoo",
   "metadata": {},
   "source": [
    "在Python中，使用了 yield 的函数被称为生成器（generator）\n",
    "\n",
    "生成器是一个返回迭代器的函数，只能用于迭代操作\n",
    "\n",
    "在调用生成器运行的过程中，每次遇到 yield 时函数会暂停并保存当前所有的运行信息，返回 yield 的值, 并在下一次执行 next() 方法时从当前位置继续运行。\n",
    "\n",
    "调用一个生成器函数，返回的是一个迭代器对象。"
   ]
  },
  {
   "cell_type": "code",
   "execution_count": 10,
   "id": "known-video",
   "metadata": {},
   "outputs": [
    {
     "name": "stdout",
     "output_type": "stream",
     "text": [
      "0 1 1 2 3 5 8 13 21 34 55 "
     ]
    }
   ],
   "source": [
    "def fab(n):\n",
    "    a, b, x = 0, 1, 0\n",
    "    while True:\n",
    "        if x > n:\n",
    "            return \n",
    "        yield a\n",
    "        a, b = b, a+b\n",
    "        x+=1\n",
    "        \n",
    "f = fab(10)  #f是一个迭代器，由生成器返回生成\n",
    "\n",
    "while True:\n",
    "    try:\n",
    "        print(next(f),end=' ')\n",
    "    except StopIteration:\n",
    "        break"
   ]
  },
  {
   "cell_type": "markdown",
   "id": "worth-laugh",
   "metadata": {},
   "source": [
    "### 9. PEP8编码习惯\n",
    "\n",
    "- 不要在行尾加分号, 也不要用分号将两条命令放在同一行.\n",
    "- 每行不超过80个字符\n",
    "- 用4个空格来缩进代码，绝对不要用tab\n",
    "- 顶级定义之间空两行, 方法定义之间空一行\n",
    "- 括号内不要有空格\n",
    "    不要在逗号, 分号, 冒号前面加空格, 但应该在它们后面加(除了在行尾)    \n",
    "    参数列表, 索引或切片的左括号前不应加空格    \n",
    "    在二元操作符两边都加上一个空格, 比如赋值(=), 比较(==, <, >, !=, <>, <=, >=, in, not in, is, is not), 布尔(and, or, not)\n",
    "    \n",
    "- 如果一个类不继承自其它类, 就显式的从object继承. 嵌套类也一样\n",
    "- 在文件和sockets结束时, 显式的关闭它\n",
    "- 每个导入应该独占一行, typing 的导入除外\n",
    "- 为临时代码使用TODO注释, 它是一种短期解决方案. 不算完美, 但够好了\n",
    "- 通常每个语句应该独占一行"
   ]
  },
  {
   "cell_type": "markdown",
   "id": "interracial-coating",
   "metadata": {},
   "source": [
    "### 10. 面向接口编程\n",
    "\n",
    "在系统分析和架构中，分清层次和依赖关系，每个层次不是直接向其上层提供服务（即不是直接实例化在上层中），而是通过定义一组接口，仅向上层暴露其接口功能，上层对于下层仅仅是接口依赖，而不依赖具体类。"
   ]
  },
  {
   "cell_type": "markdown",
   "id": "decreased-catering",
   "metadata": {},
   "source": [
    "### 11.面向切面编程\n",
    "\n",
    "在运行时，编译时，类和方法加载时，动态地将代码切入到类的指定方法、指定位置上的编程思想就是面向切面的编程。\n",
    "\n",
    "**优点：对原有代码毫无入侵性**\n",
    "\n",
    "常用装饰器来实现"
   ]
  },
  {
   "cell_type": "markdown",
   "id": "complicated-mortgage",
   "metadata": {},
   "source": [
    "### 11.谈下python的GIL\n",
    "\n",
    "GIL全局解释锁。\n",
    "\n",
    "同一进程中假如有多个线程运行，一个线程在运行python 程序的时候会霸占python 解释器（加了一把锁即GIL），使该进程内的其他线程无法运行，等该线程运行完后其他线程才能运行。如果线程运行过程中遇到耗时操作，则解释器锁解开，使其他线程运行。所以在多线程中，线程的运行仍是有先后顺序的，并不是同时进行。多进程中因为每个进程都能被系统分配资源，相当于每个进程有了一个python 解释器，所以多进程可以实现多个进程的同时运行，缺点是进程系统资源开销大"
   ]
  },
  {
   "cell_type": "markdown",
   "id": "improving-namibia",
   "metadata": {},
   "source": [
    "### 12. \\*args与\\*\\*kwargs\n",
    "\n",
    "\\*args代表位置参数，它会接收任意多个参数并把这些参数作为**元组**传递给函数。\\*\\*kwargs代表的关键字参数，返回的是**字典**，位置参数一定要放在关键字前面"
   ]
  },
  {
   "cell_type": "markdown",
   "id": "excessive-least",
   "metadata": {},
   "source": [
    "### 13. 设计模式\n",
    "\n",
    "1. 单例模式：保证一个类仅有一个实例，并提供一个访问他的全局访问点，例如框架中的数据库连接\n",
    "\n",
    "    每一次执行类名()返回的对象，内存地址都是相同的\n",
    "    \n",
    "    \n",
    "2. 装饰器模式：不修改元类代码和继承的情况下动态扩展类的功能，例如框架中的每个controller文件会提供before和after方法。\n",
    "3. 迭代器模式： 提供一个方法顺序访问一个聚合对象中各个元素，在PHP中将继承 Iterator 类\n",
    "4. 命令模式: 将”请求”封闭成对象, 以便使用不同的请求,队列或者日志来参数化其他对象. 命令模式也支持可撤销的操作.\n",
    "\n",
    "- 单例模式"
   ]
  },
  {
   "cell_type": "code",
   "execution_count": 11,
   "id": "jewish-importance",
   "metadata": {},
   "outputs": [
    {
     "name": "stdout",
     "output_type": "stream",
     "text": [
      "<__main__.Dog object at 0x00000214DA8A0760>\n",
      "<__main__.Dog object at 0x00000214DA8A0760>\n"
     ]
    }
   ],
   "source": [
    "class Dog(object):\n",
    "    instance = None\n",
    "    \n",
    "    def __new__(cls,*args,**kwargs):\n",
    "        \n",
    "        if cls.instance is None:\n",
    "            cls.instance = super().__new__(cls)\n",
    "            \n",
    "        return cls.instance\n",
    "    \n",
    "dog1 = Dog()\n",
    "print(dog1)\n",
    "dog2 = Dog()\n",
    "print(dog2)        "
   ]
  },
  {
   "cell_type": "markdown",
   "id": "shaped-shadow",
   "metadata": {},
   "source": [
    "- 工厂模式\n",
    "\n",
    "    定义一个创建对象的接口，让其子类自己决定实例化哪一个工厂类"
   ]
  },
  {
   "cell_type": "code",
   "execution_count": 12,
   "id": "unusual-hindu",
   "metadata": {},
   "outputs": [
    {
     "name": "stdout",
     "output_type": "stream",
     "text": [
      "eat meat\n",
      "wang\n"
     ]
    }
   ],
   "source": [
    "class Animal():\n",
    "    def eat(self):\n",
    "        pass\n",
    "    def voice(self):\n",
    "        pass\n",
    "\n",
    "class Dog(Animal):\n",
    "    def eat(self):\n",
    "        print(\"eat meat\")\n",
    "    def voice(self):\n",
    "        print(\"wang\")\n",
    "\n",
    "class Cat(Animal):\n",
    "    def eat(self):\n",
    "        print(\"eat fish\")\n",
    "    def voice(self):\n",
    "        print(\"mow\")\n",
    "\n",
    "# 工厂类\n",
    "class FactoryAni():\n",
    "    def creatAni(self,aniType):\n",
    "        if aniType == 'Dog':\n",
    "            return Dog()\n",
    "        if aniType == 'Cat':\n",
    "            return Cat()\n",
    "\n",
    "fa = FactoryAni()\n",
    "d = fa.creatAni('Dog')\n",
    "d.eat()\n",
    "d.voice()"
   ]
  },
  {
   "cell_type": "markdown",
   "id": "approved-mixer",
   "metadata": {},
   "source": [
    "- 装饰器模式\n",
    "\n",
    "    装饰器模式允许向一个现有的对象添加新的功能，同时又不改变其结构\n",
    "\n",
    "    有一些函数或者类里面有一些步骤是一样的(比如对数据缓存，比如加锁和释放)，那么你就可以把这些重复的东西拿出来放在装饰器里面，这样每个函数或者类就不需要写这样多的代码，而抽象出来"
   ]
  },
  {
   "cell_type": "code",
   "execution_count": null,
   "id": "needed-missile",
   "metadata": {},
   "outputs": [],
   "source": [
    "from functools import wraps\n",
    "from redis import Redis\n",
    "redis = Redis()\n",
    "\n",
    "def cached(timeout=5 * 60):\n",
    "    def decorator(f):\n",
    "        # wraps将函数原来的属性复制过来\n",
    "        @wraps(f)\n",
    "        def decorated_function(*args, **kwargs):\n",
    "            # 以执行函数的参数为键\n",
    "            key = str(args)\n",
    "            rv = redis.get(key)\n",
    "            # 发现缓存过直接返回\n",
    "            if rv is not None:\n",
    "                print('Has match: ', rv)\n",
    "                return rv\n",
    "            rv = f(*args, **kwargs)\n",
    "            redis.setex(key, rv, time=timeout)\n",
    "            return rv\n",
    "        return decorated_function\n",
    "    return decorator\n",
    "\n",
    "@cached()\n",
    "def printNumber(num):\n",
    "    return num\n",
    "\n",
    "if __name__ == '__main__':\n",
    "    # 注意列表数据有重复\n",
    "    for i in [1, 2, 5, 11, 2, 7, 9, 1]:\n",
    "        print(printNumber(i))"
   ]
  },
  {
   "cell_type": "markdown",
   "id": "divided-martin",
   "metadata": {},
   "source": [
    "### 14. 异常"
   ]
  },
  {
   "cell_type": "code",
   "execution_count": 13,
   "id": "physical-rwanda",
   "metadata": {},
   "outputs": [
    {
     "name": "stdout",
     "output_type": "stream",
     "text": [
      "请输入整数：9.0\n",
      "请输入正确的数字\n"
     ]
    }
   ],
   "source": [
    "try:\n",
    "    num = int(input(\"请输入整数：\"))\n",
    "except:\n",
    "    print(\"请输入正确的数字\")"
   ]
  },
  {
   "cell_type": "code",
   "execution_count": 14,
   "id": "editorial-internet",
   "metadata": {},
   "outputs": [
    {
     "name": "stdout",
     "output_type": "stream",
     "text": [
      "输入密码（不低于8位）：3242\n",
      "主动抛出异常\n",
      "密码长度不够\n"
     ]
    }
   ],
   "source": [
    "def input_passward():\n",
    "    pwd = input(\"输入密码（不低于8位）：\")\n",
    "    if len(pwd)>=8:\n",
    "        return pwd\n",
    "\n",
    "    # 若少于8位\n",
    "    print(\"主动抛出异常\")\n",
    "    # 创建异常对象\n",
    "    ex = Exception(\"密码长度不够\")\n",
    "    # 抛出\n",
    "    raise ex\n",
    "\n",
    "try:\n",
    "    print(input_passward())\n",
    "except Exception as result:\n",
    "    print(result)"
   ]
  },
  {
   "cell_type": "markdown",
   "id": "pleased-generic",
   "metadata": {},
   "source": [
    "### 15.实现python内置max()"
   ]
  },
  {
   "cell_type": "code",
   "execution_count": 19,
   "id": "jewish-shell",
   "metadata": {},
   "outputs": [
    {
     "name": "stdout",
     "output_type": "stream",
     "text": [
      "None\n"
     ]
    }
   ],
   "source": [
    "def max(*args, **kwargs):\n",
    "    \"\"\"\n",
    "    :param args:\n",
    "    :param kwargs:\n",
    "    :return: 根据要求返回最大值\n",
    "    \"\"\"   \n",
    "    \n",
    "    key = kwargs.get(\"key\")\n",
    "    default = kwargs.get('default')\n",
    "    \n",
    "    if len(args) == 0:\n",
    "        raise TypeError\n",
    "\n",
    "    if len(args) != 1 and default is not None:\n",
    "        raise TypeError\n",
    "        \n",
    "    if len(args) == 1:            \n",
    "        return args[0]\n",
    "    \n",
    "    try:\n",
    "        if key == None:\n",
    "            max = args[0]\n",
    "            for select in args:\n",
    "                if max < select:\n",
    "                    max = select\n",
    "            return max\n",
    "        else:\n",
    "            max = args[0]\n",
    "            for select in args:\n",
    "                if key(max) < key(select):\n",
    "                    max = select\n",
    "            return max\n",
    "        return default\n",
    "    except:\n",
    "        return default\n",
    "\n",
    "print(max('c',5))"
   ]
  },
  {
   "cell_type": "markdown",
   "id": "direct-possibility",
   "metadata": {},
   "source": [
    "### 16.判断两个字符串所含内容是否相同（字符顺序可能不一样，个数和总长度一样），相同返回True，不同返回False"
   ]
  },
  {
   "cell_type": "code",
   "execution_count": null,
   "id": "turkish-poster",
   "metadata": {},
   "outputs": [],
   "source": [
    "def is_same(a,b):\n",
    "    # 用字典记录\n",
    "    c = {}\n",
    "    if len(a) != len(b):\n",
    "        return False\n",
    "    for i in a:\n",
    "        c[i] = c.get(i, 0) + 1\n",
    "    for i in b:\n",
    "        if i not in c:\n",
    "            return False\n",
    "        c[i] -= 1\n",
    "        if c[i] < 0:\n",
    "            return False\n",
    "    return True"
   ]
  },
  {
   "cell_type": "code",
   "execution_count": null,
   "id": "superior-egyptian",
   "metadata": {},
   "outputs": [],
   "source": []
  }
 ],
 "metadata": {
  "kernelspec": {
   "display_name": "Python 3",
   "language": "python",
   "name": "python3"
  },
  "language_info": {
   "codemirror_mode": {
    "name": "ipython",
    "version": 3
   },
   "file_extension": ".py",
   "mimetype": "text/x-python",
   "name": "python",
   "nbconvert_exporter": "python",
   "pygments_lexer": "ipython3",
   "version": "3.8.7"
  }
 },
 "nbformat": 4,
 "nbformat_minor": 5
}
