{
 "cells": [
  {
   "cell_type": "markdown",
   "id": "understood-generation",
   "metadata": {},
   "source": [
    "### 正定矩阵\n",
    "\n",
    "（1）广义定义：设M是n阶方阵，如果对任何非零向量z，都有$z^TMz> 0$，其中$z^T$ 表示$z$的转置，就称M为正定矩阵。\n",
    "\n",
    "例如：B为n阶矩阵，E为单位矩阵，a为正实数。在a充分大时，aE+B为正定矩阵。（B必须为对称阵）\n",
    "\n",
    "（2）狭义定义：一个n阶的实对称矩阵M是正定的的条件是当且仅当对于所有的非零实系数向量z，都有$z^TMz> 0$。其中$z^T$ 表示$z$的转置。"
   ]
  },
  {
   "cell_type": "code",
   "execution_count": null,
   "id": "royal-bleeding",
   "metadata": {},
   "outputs": [],
   "source": []
  }
 ],
 "metadata": {
  "kernelspec": {
   "display_name": "Python 3",
   "language": "python",
   "name": "python3"
  },
  "language_info": {
   "codemirror_mode": {
    "name": "ipython",
    "version": 3
   },
   "file_extension": ".py",
   "mimetype": "text/x-python",
   "name": "python",
   "nbconvert_exporter": "python",
   "pygments_lexer": "ipython3",
   "version": "3.8.7"
  }
 },
 "nbformat": 4,
 "nbformat_minor": 5
}
