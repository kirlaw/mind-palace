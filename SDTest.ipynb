{
 "cells": [
  {
   "cell_type": "markdown",
   "id": "d4f5d10a",
   "metadata": {},
   "source": [
    "# 1\n",
    "Please extract all contacts from the text. Valid contacts are like this - #Firstname.Familyname\n",
    "\n",
    "Input \n",
    "\n",
    "Welcome to #CEICData. If you need any help \n",
    "from HRs you can write to #Kapka.Mircheva. For \n",
    "any techinical problems you should contact \n",
    "#Nevolia.Prikaznova. If you need any smart \n",
    "advices, please contact #Angel.Inkov. When you \n",
    "are sick, please stay at #Home.\n",
    "\n",
    "Output\n",
    "\n",
    "#Kapka.Mircheva\n",
    "\n",
    "#Nevolia.Prikaznova\n",
    "\n",
    "#Angel.Inkov"
   ]
  },
  {
   "cell_type": "code",
   "execution_count": 12,
   "id": "ddeba139",
   "metadata": {},
   "outputs": [
    {
     "name": "stdout",
     "output_type": "stream",
     "text": [
      "['#Kapka.Mircheva', '#Nevolia.Prikaznova', '#Angel.Inkov']\n"
     ]
    }
   ],
   "source": [
    "import re\n",
    "\n",
    "s = 'Welcome to #CEICData. If you need any help from HRs you can write to #Kapka.Mircheva. For any techinical problems you should contact\\\n",
    "#Nevolia.Prikaznova. If you need any smart advices, please contact #Angel.Inkov. When you are sick, please stay at #Home.'\n",
    "\n",
    "ret = re.findall('#[A-Z][a-z]+.[A-Z][a-z]+',s)\n",
    "print(ret)\n"
   ]
  },
  {
   "cell_type": "markdown",
   "id": "82410ede",
   "metadata": {},
   "source": [
    "# 2\n",
    "Given a matrix (represented by a two dimensional array) of strings. Example:\n",
    "\n",
    "Input:\n",
    "\n",
    "a z c\n",
    "\n",
    "k e b\n",
    "\n",
    "d h m\n",
    "\n",
    "a) Find the result of concatenated sorted neighbor elements:\n",
    "\n",
    "For the element a, the neighbours are “z”, ”e”, “k” and the results is “ekz” \n",
    "\n",
    "For the element k, the neighbours are “a”, “z”, “e”, “h”, “d” and the results is “adehz”\n",
    "\n",
    "Output:\n",
    "\n",
    "a (the result is ekz)\n",
    "\n",
    "z (the result is abcek)\n",
    "\n",
    "c (the result is bez)\n",
    "\n",
    "k (the result is adehz)\n",
    "\n",
    "...................................\n",
    "\n",
    "m (the resutt is beh)\n",
    "\n",
    "b) Output the elements of the matrix sorted alphabetically by the results from a).\n",
    "\n",
    "Output:\n",
    "\n",
    "e (the result is abcdhkmz)\n",
    "\n",
    "z (the result is abcek)\n",
    "\n",
    "k (the result is adehz)\n",
    "\n",
    "h (the result is bdekm)\n",
    "\n",
    "m (the result is beh)\n",
    "\n",
    "..........................\n",
    "\n",
    "d (the result is ehk)\n"
   ]
  },
  {
   "cell_type": "code",
   "execution_count": 13,
   "id": "4acc13ce",
   "metadata": {},
   "outputs": [
    {
     "ename": "ModuleNotFoundError",
     "evalue": "No module named 'scipy'",
     "output_type": "error",
     "traceback": [
      "\u001b[1;31m---------------------------------------------------------------------------\u001b[0m",
      "\u001b[1;31mModuleNotFoundError\u001b[0m                       Traceback (most recent call last)",
      "\u001b[1;32m<ipython-input-13-ba6db50e3c20>\u001b[0m in \u001b[0;36m<module>\u001b[1;34m\u001b[0m\n\u001b[0;32m      1\u001b[0m \u001b[1;32mimport\u001b[0m \u001b[0mnumpy\u001b[0m \u001b[1;32mas\u001b[0m \u001b[0mnp\u001b[0m\u001b[1;33m\u001b[0m\u001b[1;33m\u001b[0m\u001b[0m\n\u001b[1;32m----> 2\u001b[1;33m \u001b[1;32mimport\u001b[0m \u001b[0mscipy\u001b[0m\u001b[1;33m.\u001b[0m\u001b[0msignal\u001b[0m\u001b[1;33m\u001b[0m\u001b[1;33m\u001b[0m\u001b[0m\n\u001b[0m\u001b[0;32m      3\u001b[0m \u001b[1;33m\u001b[0m\u001b[0m\n\u001b[0;32m      4\u001b[0m \u001b[0mm\u001b[0m \u001b[1;33m=\u001b[0m \u001b[0mnp\u001b[0m\u001b[1;33m.\u001b[0m\u001b[0marray\u001b[0m\u001b[1;33m(\u001b[0m\u001b[1;33m[\u001b[0m\u001b[1;33m[\u001b[0m\u001b[1;34m'a'\u001b[0m\u001b[1;33m,\u001b[0m\u001b[1;34m'z'\u001b[0m\u001b[1;33m,\u001b[0m\u001b[1;34m'c'\u001b[0m\u001b[1;33m]\u001b[0m\u001b[1;33m,\u001b[0m\u001b[1;33m[\u001b[0m\u001b[1;34m'k'\u001b[0m\u001b[1;33m,\u001b[0m\u001b[1;34m'e'\u001b[0m\u001b[1;33m,\u001b[0m\u001b[1;34m'b'\u001b[0m\u001b[1;33m]\u001b[0m\u001b[1;33m,\u001b[0m\u001b[1;33m[\u001b[0m\u001b[1;34m'd'\u001b[0m\u001b[1;33m,\u001b[0m\u001b[1;34m'h'\u001b[0m\u001b[1;33m,\u001b[0m\u001b[1;34m'm'\u001b[0m\u001b[1;33m]\u001b[0m\u001b[1;33m]\u001b[0m\u001b[1;33m)\u001b[0m\u001b[1;33m\u001b[0m\u001b[1;33m\u001b[0m\u001b[0m\n\u001b[0;32m      5\u001b[0m \u001b[1;33m\u001b[0m\u001b[0m\n",
      "\u001b[1;31mModuleNotFoundError\u001b[0m: No module named 'scipy'"
     ]
    }
   ],
   "source": [
    "m =[['a','z','c'],['k','e','b'],['d','h','m']]\n",
    "\n"
   ]
  },
  {
   "cell_type": "markdown",
   "id": "d5bc6dca",
   "metadata": {},
   "source": [
    "# 3\n",
    "Write a program, which accepts an array of numbers and:\n",
    "\n",
    "a) Finds all of the groups of consecutive numbers with same integer (whole) part. \n",
    "\n",
    "**Input**\n",
    "\n",
    "1.1 2.1 2.2 2.6 2.3 2.5 2.9 3 4 5 6 7 7.2 7.3 8 9 10\n",
    "\n",
    "**Output**\n",
    "\n",
    "[1.1], [2.1, 2.2, 2.6, 2.3, 2.5, 2.9], [3], [4], [5], [6], [7, 7.2, 7.3], [8], [9], [10] \n",
    "\n",
    "b) * Duplicates the input array X times, where X is the maximum number of consecutive numbers with same integer (whole) part, and in each of the duplicated arrays at the position of the group puts one of the numbers from the group sorted by their value in ascending order. (If the current group doesn’t contain more numbers, puts the largest of them).\n",
    "\n",
    "\\- returns an array of the duplicated arrays. Example: \n",
    "\n",
    "**Input**\n",
    "\n",
    "1.1 2.1 2.2 2.6 2.3 2.5 2.9 3 4 5 6 7 7.2 7.3 8 9 10\n",
    "\n",
    "**Output**\n",
    "\n",
    "1.1 2.1 3 4 5 6 7 8 9 10\n",
    "\n",
    "1.1 2.2 3 4 5 6 7.2 8 9 10\n",
    "\n",
    "1.1 2.3 3 4 5 6 7.3 8 9 10\n",
    "\n",
    "1.1 2.5 3 4 5 6 7.3 8 9 10\n",
    "\n",
    "......................................."
   ]
  },
  {
   "cell_type": "code",
   "execution_count": 6,
   "id": "70b4f798",
   "metadata": {},
   "outputs": [
    {
     "name": "stdout",
     "output_type": "stream",
     "text": [
      "[[1.1], [2.1, 2.2, 2.6, 2.3, 2.5, 2.9], [3], [4], [5], [6], [7, 7.2, 7.3], [8], [9]]\n"
     ]
    }
   ],
   "source": [
    "l = [1.1,2.1,2.2,2.6,2.3,2.5,2.9,3,4,5,6,7,7.2,7.3,8,9,10]\n",
    "li = []\n",
    "temp = []\n",
    "k = 0\n",
    "for j in range(1,11):\n",
    "    for i in range(0,10):\n",
    "        if k<len(l):\n",
    "            if int(l[k])==j:\n",
    "                temp.append(l[k])\n",
    "                k+=1\n",
    "            else:\n",
    "                li.append(temp)\n",
    "                temp=[]\n",
    "                break\n",
    "print(li)"
   ]
  },
  {
   "cell_type": "code",
   "execution_count": null,
   "id": "0d7a0963",
   "metadata": {},
   "outputs": [],
   "source": []
  }
 ],
 "metadata": {
  "kernelspec": {
   "display_name": "Python 3",
   "language": "python",
   "name": "python3"
  },
  "language_info": {
   "codemirror_mode": {
    "name": "ipython",
    "version": 3
   },
   "file_extension": ".py",
   "mimetype": "text/x-python",
   "name": "python",
   "nbconvert_exporter": "python",
   "pygments_lexer": "ipython3",
   "version": "3.8.7"
  }
 },
 "nbformat": 4,
 "nbformat_minor": 5
}
