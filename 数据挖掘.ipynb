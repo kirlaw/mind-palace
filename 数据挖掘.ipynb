{
 "cells": [
  {
   "cell_type": "markdown",
   "id": "stopped-occasion",
   "metadata": {},
   "source": [
    "### 什么是one-hot编码？\n",
    "\n",
    "One-Hot编码，又称为一位有效编码，主要是采用N位状态寄存器来对N个状态进行编码，每个状态都由他独立的寄存器位，并且在任意时候只有一位有效。\n",
    "\n",
    "例：对\\[\"中国\", \"美国\", \"日本\"\\]进行one-hot编码  \n",
    "\\[[1,0,0],[0,1,0],[0,0,1]\\]\n",
    "\n",
    "one-hot编码是将类别变量转换为机器学习算法易于利用的一种形式的过程。\n",
    "\n",
    "**缺陷:**  \n",
    "要求每个类别之间相互独立，如果之间存在某种连续型的关系，或许使用distributed respresentation（分布式）更加合适。"
   ]
  },
  {
   "cell_type": "markdown",
   "id": "other-tuition",
   "metadata": {},
   "source": [
    "### KNN\n",
    "\n",
    "最邻近结点算法\n"
   ]
  }
 ],
 "metadata": {
  "kernelspec": {
   "display_name": "Python 3",
   "language": "python",
   "name": "python3"
  },
  "language_info": {
   "codemirror_mode": {
    "name": "ipython",
    "version": 3
   },
   "file_extension": ".py",
   "mimetype": "text/x-python",
   "name": "python",
   "nbconvert_exporter": "python",
   "pygments_lexer": "ipython3",
   "version": "3.8.7"
  }
 },
 "nbformat": 4,
 "nbformat_minor": 5
}
