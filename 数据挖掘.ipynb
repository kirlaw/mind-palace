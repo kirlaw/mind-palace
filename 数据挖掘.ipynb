{
 "cells": [
  {
   "cell_type": "markdown",
   "id": "stopped-occasion",
   "metadata": {},
   "source": [
    "### 什么是one-hot编码？\n",
    "\n",
    "One-Hot编码，又称为一位有效编码，主要是采用N位状态寄存器来对N个状态进行编码，每个状态都由他独立的寄存器位，并且在任意时候只有一位有效。\n",
    "\n",
    "例：对\\[\"中国\", \"美国\", \"日本\"\\]进行one-hot编码  \n",
    "\\[[1,0,0],[0,1,0],[0,0,1]\\]\n",
    "\n",
    "one-hot编码是将类别变量转换为机器学习算法易于利用的一种形式的过程。\n",
    "\n",
    "**缺陷:**  \n",
    "要求每个类别之间相互独立，如果之间存在某种连续型的关系，或许使用distributed respresentation（分布式）更加合适。"
   ]
  },
  {
   "cell_type": "markdown",
   "id": "commercial-steam",
   "metadata": {},
   "source": [
    "### KNN\n",
    "\n",
    "最邻近结点算法:每个样本都可以用它最接近的K个邻近值来代表。近邻算法就是将数据集合中每一个记录进行分类的方法"
   ]
  },
  {
   "cell_type": "markdown",
   "id": "temporal-music",
   "metadata": {},
   "source": [
    "### 归一化\n",
    "\n",
    "通过对原始数据进行变换把数据映射到(默认为[0,1])之间    \n",
    "容易受极值影响\n",
    " \n",
    "$$\\frac{x-min}{max-min}$$\n",
    "\n",
    "**使用**    \n",
    "`sklearn.preprocessing.MinMaxScaler(feature_range=(0,1))`     \n",
    "- feature_range默认(0,1)\n",
    "- MinMaxScalar.fit_transform(X)        \n",
    "    X:numpy array格式的数据\\[n_samples,n_features\\]    \n",
    "    返回值：转换后的形状相同的array\n",
    "    \n"
   ]
  },
  {
   "cell_type": "markdown",
   "id": "inside-developer",
   "metadata": {},
   "source": [
    "### 标准化\n",
    "\n",
    "通过对原始数据进行变换把数据变换到均值为0,标准差为1范围内    \n",
    "\n",
    "$$\\frac{x-mean}{σ}$$      \n",
    "作用于每一列，mean为平均值，σ为标准差\n",
    "\n",
    "如果出现异常点，由于具有一定数据量，少量的异常点对于平均值的影响并不大，从而方差改变较小。\n",
    "\n",
    "**使用**\n",
    "`scikit-learn.preprocessing.StandardScaler`\n",
    "- StandardScaler.fit_transform(X,y)       \n",
    "    X:numpy array格式的数据\\[n_samples,n_features\\]\n",
    "    返回值：转换后的形状相同的array\n",
    "\n",
    "- StandardScaler.mean_      \n",
    "    原始数据中每列特征的平均值\n",
    "\n",
    "- StandardScaler.var_    \n",
    "    原始数据每列特征的方差\n"
   ]
  },
  {
   "cell_type": "markdown",
   "id": "freelance-plane",
   "metadata": {},
   "source": [
    "### 特征选择\n",
    "\n",
    "**原因：**\n",
    "- 冗余：部分特征相关度高，容易消耗计算性能\n",
    "- 噪声：部分特征对预测结果有负影响"
   ]
  },
  {
   "attachments": {},
   "cell_type": "markdown",
   "id": "caring-copyright",
   "metadata": {},
   "source": [
    "### PCA\n",
    "\n",
    "主成分分析\n",
    "\n",
    "用于分析、简化数据集，将数据分解为较低维数空间\n",
    "\n",
    "目的：是数据维数压缩，尽可能降低原数据的维数（复杂度），损失少量信息。\n",
    "\n",
    "作用：可以削减回归分析或者聚类分析中特征的数量"
   ]
  },
  {
   "attachments": {},
   "cell_type": "markdown",
   "id": "magnetic-object",
   "metadata": {},
   "source": [
    "### 机器学习算法分类\n",
    "\n",
    "**监督学习**    \n",
    "- 分类：k-近邻算法、贝叶斯分类、决策树与随机森林、逻辑回归、神经网络（目标值离散）    \n",
    "- 回归：线性回归、岭回归（目标值连续）    \n",
    "- 标注：隐马尔可夫模型\n",
    "**无监督学习**    \n",
    "- 聚类：k-means    \n",
    "\n",
    "监督学习:特征值+目标值\n",
    "\n",
    "非监督学习:特征值"
   ]
  },
  {
   "cell_type": "code",
   "execution_count": null,
   "id": "motivated-seeking",
   "metadata": {},
   "outputs": [],
   "source": []
  }
 ],
 "metadata": {
  "kernelspec": {
   "display_name": "Python 3",
   "language": "python",
   "name": "python3"
  },
  "language_info": {
   "codemirror_mode": {
    "name": "ipython",
    "version": 3
   },
   "file_extension": ".py",
   "mimetype": "text/x-python",
   "name": "python",
   "nbconvert_exporter": "python",
   "pygments_lexer": "ipython3",
   "version": "3.8.7"
  }
 },
 "nbformat": 4,
 "nbformat_minor": 5
}
