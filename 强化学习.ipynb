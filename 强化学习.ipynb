{
 "cells": [
  {
   "cell_type": "markdown",
   "id": "purple-logan",
   "metadata": {},
   "source": [
    "###  在线策略和离线策略\n",
    "\n",
    "在线策略（on-policy）表示行为策略和目标策略是同一个策略\n",
    "\n",
    "离线策略（off-policy）表示行为策略和目标策略不是同一个策略"
   ]
  },
  {
   "cell_type": "markdown",
   "id": "metric-family",
   "metadata": {},
   "source": [
    "### SARSA\n",
    "\n",
    "在线策略算法。根据当前环境s产生一个动作a，反馈奖励r和s'，输出对应动作a'\n",
    "\n",
    "更新公式使用当前策略采样的五元组（s,a,r,s',a')"
   ]
  },
  {
   "cell_type": "markdown",
   "id": "pharmaceutical-unemployment",
   "metadata": {},
   "source": [
    "### Q-Learning\n",
    "\n",
    "离线策略算法\n",
    "\n",
    "更新公式四元组（s,a,r,s'）来更新Q（s,a），s和a是给定的条件，r和s'由环境采样得到"
   ]
  },
  {
   "cell_type": "markdown",
   "id": "decent-walter",
   "metadata": {},
   "source": [
    "### 有模型和无模型\n",
    "免模型方法不需要对环境进行建模，直接与真实环境进行交互即可，所以其通常需要较多的数据或者采样工作来优化策略，这也使其对于真实环境具有更好的泛化性能；而有模型方法需要对环境进行建模，同时在真实环境与虚拟环境中进行学习，如果建模的环境与真实环境的差异较大，那么会限制其泛化性能。现在通常使用有模型方法进行模型的构建工作。"
   ]
  },
  {
   "cell_type": "code",
   "execution_count": null,
   "id": "detected-frame",
   "metadata": {},
   "outputs": [],
   "source": []
  }
 ],
 "metadata": {
  "kernelspec": {
   "display_name": "Python 3",
   "language": "python",
   "name": "python3"
  },
  "language_info": {
   "codemirror_mode": {
    "name": "ipython",
    "version": 3
   },
   "file_extension": ".py",
   "mimetype": "text/x-python",
   "name": "python",
   "nbconvert_exporter": "python",
   "pygments_lexer": "ipython3",
   "version": "3.8.7"
  }
 },
 "nbformat": 4,
 "nbformat_minor": 5
}
