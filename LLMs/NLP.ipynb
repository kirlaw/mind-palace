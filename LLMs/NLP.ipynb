{
 "cells": [
  {
   "cell_type": "markdown",
   "id": "advised-shaft",
   "metadata": {},
   "source": [
    "### 度量两篇文文章的相似度流程如下：\n",
    "\n",
    "思路：1、分词；2、列出所有词；3、分词编码；4、词频向量化；5、套用余弦函数计量两个句子的相似度。\n"
   ]
  },
  {
   "cell_type": "markdown",
   "id": "amateur-tokyo",
   "metadata": {},
   "source": [
    "### BERT\n",
    "通过对BERT词表示的观察，会发现整体呈锥形分布：高频词聚集在锥头部，低频词分散在锥尾。又由于高频词本身是高频的，因此会dominate句子表示，让整体的相似度都很高\n",
    "\n",
    "#### 输入\n",
    "1. 词嵌入张量: word embeddings\n",
    "\n",
    "2. 语句分块张量: segmentation embeddings\n",
    "\n",
    "3. 位置编码张量: position embeddings"
   ]
  },
  {
   "cell_type": "markdown",
   "id": "allied-finder",
   "metadata": {},
   "source": [
    "### ConSERT\n",
    "对比学习，它是通过拉近相同样本的距离、拉远不同样本的距离，来刻画样本本身的表示，正好可以解决BERT表示的塌缩问题"
   ]
  },
  {
   "cell_type": "code",
   "execution_count": null,
   "id": "everyday-reliance",
   "metadata": {},
   "outputs": [],
   "source": []
  }
 ],
 "metadata": {
  "kernelspec": {
   "display_name": "Python 3 (ipykernel)",
   "language": "python",
   "name": "python3"
  },
  "language_info": {
   "codemirror_mode": {
    "name": "ipython",
    "version": 3
   },
   "file_extension": ".py",
   "mimetype": "text/x-python",
   "name": "python",
   "nbconvert_exporter": "python",
   "pygments_lexer": "ipython3",
   "version": "3.8.6"
  }
 },
 "nbformat": 4,
 "nbformat_minor": 5
}
