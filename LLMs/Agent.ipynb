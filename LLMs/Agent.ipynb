{
 "cells": [
  {
   "cell_type": "markdown",
   "id": "28a1043e",
   "metadata": {},
   "source": [
    "## LangChain特征\n",
    "\n",
    "1. 模块化组件\n",
    "\n",
    "2. 与外部系统的集成能力\n",
    "\n",
    "    LangChain 最大的优势之一是能轻松接入各种外部系统：\n",
    "\n",
    "    数据源：PDF、Word、HTML、Notion、Google Drive、数据库等。\n",
    "\n",
    "    向量数据库：FAISS、Pinecone、Milvus、Qdrant、Chroma 等。\n",
    "\n",
    "    API 工具：搜索引擎（Google/Bing）、计算器、Python REPL、自定义 REST API。\n",
    "\n",
    "    本地模型：通过 llamacpp、Ollama、HuggingFace 等加载本地推理。\n",
    "\n",
    "3. 多种工作流模式\n",
    "\n",
    "4. 记忆与上下文管理\n",
    "\n",
    "5. 可扩展性和定制化"
   ]
  },
  {
   "cell_type": "code",
   "execution_count": null,
   "id": "454a06e2",
   "metadata": {},
   "outputs": [],
   "source": []
  }
 ],
 "metadata": {
  "kernelspec": {
   "display_name": "Python 3 (ipykernel)",
   "language": "python",
   "name": "python3"
  },
  "language_info": {
   "codemirror_mode": {
    "name": "ipython",
    "version": 3
   },
   "file_extension": ".py",
   "mimetype": "text/x-python",
   "name": "python",
   "nbconvert_exporter": "python",
   "pygments_lexer": "ipython3",
   "version": "3.8.6"
  }
 },
 "nbformat": 4,
 "nbformat_minor": 5
}
