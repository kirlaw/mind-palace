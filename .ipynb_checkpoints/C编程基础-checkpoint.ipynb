{
 "cells": [
  {
   "cell_type": "markdown",
   "id": "neutral-cameroon",
   "metadata": {},
   "source": [
    "### 1. 下列程序的运行结果是 1 4 3 4 5 ，请为横线处选择合适的程序\n",
    "```c\n",
    "void point(int *p) {\n",
    "\n",
    "    *p=p[2];\n",
    "}\n",
    "main() {\n",
    "    int c[]={1,2,3,4,5},*p=c;\n",
    "    point(p+1);\n",
    "    for(;p<c+5;)\n",
    "        printf(“%d”,____);\n",
    "}\n",
    "```\n",
    "> \\*p++\n",
    "\n",
    "指针变量加1，即向后移动1个位置表示指针变量指向下一个数据元素的首地址。而不是在原地址基础上加1。\n",
    "\n",
    "\n",
    "下面这句代码中，相当于传入point函数的参数是数组第2个元素c\\[1\\]的首地址。\n",
    "\n",
    "\n",
    "point(p+1);\n",
    "\n",
    "\n",
    "因此在函数中：\n",
    "\n",
    "\n",
    "\\*p=p\\[2\\];\n",
    "\n",
    "\n",
    "p\\[2\\]是相对于传入的元素向后移动了两个数据元素的位置，因此这个p\\[2\\]实际是数组中的c\\[3\\]。\n",
    "\n",
    "\n",
    "所以在这里函数的作用是将数组c的第4个元素的值赋值给数组的第2个元素。\n",
    "\n",
    "\n",
    "所以数组变为1,4,3,4,5。下面设法将数组的数据遍历输出即可。\n",
    "\n",
    "\n",
    "\\*p++的作用是先取p指向的值，再将指针向后移动一个数据元素。"
   ]
  },
  {
   "cell_type": "code",
   "execution_count": null,
   "id": "eight-navigation",
   "metadata": {},
   "outputs": [],
   "source": []
  }
 ],
 "metadata": {
  "kernelspec": {
   "display_name": "Python 3",
   "language": "python",
   "name": "python3"
  },
  "language_info": {
   "codemirror_mode": {
    "name": "ipython",
    "version": 3
   },
   "file_extension": ".py",
   "mimetype": "text/x-python",
   "name": "python",
   "nbconvert_exporter": "python",
   "pygments_lexer": "ipython3",
   "version": "3.8.7"
  }
 },
 "nbformat": 4,
 "nbformat_minor": 5
}
