{
 "cells": [
  {
   "cell_type": "markdown",
   "id": "sweet-summer",
   "metadata": {},
   "source": [
    "### 1. 项目出问题的故障排除"
   ]
  },
  {
   "cell_type": "markdown",
   "id": "obvious-birthday",
   "metadata": {},
   "source": [
    "### 2.Linux命令\n",
    "\n",
    "- ls 显示当前目录下文件\n",
    "- cd 切换所在目录\n",
    "- pwd 显示当前所在目录"
   ]
  }
 ],
 "metadata": {
  "kernelspec": {
   "display_name": "Python 3",
   "language": "python",
   "name": "python3"
  },
  "language_info": {
   "codemirror_mode": {
    "name": "ipython",
    "version": 3
   },
   "file_extension": ".py",
   "mimetype": "text/x-python",
   "name": "python",
   "nbconvert_exporter": "python",
   "pygments_lexer": "ipython3",
   "version": "3.8.7"
  }
 },
 "nbformat": 4,
 "nbformat_minor": 5
}
