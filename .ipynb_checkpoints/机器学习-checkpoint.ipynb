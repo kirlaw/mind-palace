{
 "cells": [
  {
   "cell_type": "markdown",
   "id": "reported-speed",
   "metadata": {},
   "source": [
    "### 机器学习算法分类\n",
    "\n",
    "**监督学习**    \n",
    "- 分类：k-近邻算法、贝叶斯分类、决策树与随机森林、逻辑回归、神经网络（目标值离散）    \n",
    "- 回归：线性回归、岭回归（目标值连续）    \n",
    "- 标注：隐马尔可夫模型\n",
    "\n",
    "**无监督学习**    \n",
    "- 聚类：k-means    \n",
    "\n",
    "监督学习:特征值+目标值\n",
    "\n",
    "非监督学习:特征值"
   ]
  },
  {
   "cell_type": "code",
   "execution_count": null,
   "id": "yellow-raise",
   "metadata": {},
   "outputs": [],
   "source": []
  }
 ],
 "metadata": {
  "kernelspec": {
   "display_name": "Python 3",
   "language": "python",
   "name": "python3"
  },
  "language_info": {
   "codemirror_mode": {
    "name": "ipython",
    "version": 3
   },
   "file_extension": ".py",
   "mimetype": "text/x-python",
   "name": "python",
   "nbconvert_exporter": "python",
   "pygments_lexer": "ipython3",
   "version": "3.8.7"
  }
 },
 "nbformat": 4,
 "nbformat_minor": 5
}
