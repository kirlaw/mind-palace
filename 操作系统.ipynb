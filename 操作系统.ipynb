{
 "cells": [
  {
   "cell_type": "markdown",
   "id": "accurate-component",
   "metadata": {},
   "source": [
    "### 1. 线程参数含义\n",
    "\n",
    "`corePoolSize` 代表核心线程数，也就是正常情况下创建工作的线程数，这些线程创建后并不会消除，而是一种常驻线程\n",
    "\n",
    "`maxinumPoolSize` 代表的是最大线程数，它与核心线程数相对应，表示最大允许被创建的线程数，比如当前任务较多，将核心线程数都用完了，还无法满足需求时，此时就会创建新的线程，但是线程池内线程总数不会超过最大线程数\n",
    "\n",
    "`keepAliveTime`、`unit` 表示超出核心线程数之外的线程的空闲存活时间，也就是核心线程不会消除，但是超出核心线程数的部分线程如果空闲一定的时间则会被消除,可以通过 `setKeepAliveTime` 来设置空闲时间\n",
    "\n",
    "`workQueue` 用来存放待执行的任务，假设核心线程都已被使用，还有任务进来，则全部放入队列，若直到整个队列被放满任务还再持续进入，则会开始创建新的线程\n",
    "\n",
    "`ThreadFactory` 线程工厂，用来生产线程执行任务。可以选择使用默认的创建工厂，产生的线程都在同一个组内，拥有相同的优先级，且都不是守护线程。也可以选择自定义线程工厂，一般会根据业务来制定不同的线程工厂\n",
    "\n",
    "`Handler` 任务拒绝策略，有两种情况，第一种是当调用`shutdown`等方法关闭线程池后，即使线程池内部还有没执行完的任务正在执行，但是由于线程池已经关闭，再继续向线程池提交任务就会遭到拒绝。另一种情况就是当达到最大线程数，线程池已经没有能力继续处理新提交的任务"
   ]
  },
  {
   "cell_type": "markdown",
   "id": "cooperative-henry",
   "metadata": {},
   "source": [
    "### 2. 线程和进程的联系及区别\n",
    "\n",
    "- 线程是CPU调度的基本单位，同一进程中可以有多个线程，但至少有一个线程\n",
    "- 进程是操作系统分配资源的基本单位"
   ]
  },
  {
   "cell_type": "markdown",
   "id": "sapphire-terry",
   "metadata": {},
   "source": [
    "### 3. 一个进程中有哪些数据段\n",
    "\n",
    "- 代码段：保存代码\n",
    "- 静态数据段：静态数据\n",
    "- 未初始化数据段（BBS）\n",
    "- 栈：向下增长\n",
    "- 堆：向上增长"
   ]
  },
  {
   "cell_type": "markdown",
   "id": "collectible-muscle",
   "metadata": {},
   "source": [
    "### 4. 同一进程下不同线程间有哪些数据段是共享的\n",
    "\n",
    "除Stack外均共享"
   ]
  },
  {
   "cell_type": "code",
   "execution_count": null,
   "id": "parliamentary-heavy",
   "metadata": {},
   "outputs": [],
   "source": []
  }
 ],
 "metadata": {
  "kernelspec": {
   "display_name": "Python 3",
   "language": "python",
   "name": "python3"
  },
  "language_info": {
   "codemirror_mode": {
    "name": "ipython",
    "version": 3
   },
   "file_extension": ".py",
   "mimetype": "text/x-python",
   "name": "python",
   "nbconvert_exporter": "python",
   "pygments_lexer": "ipython3",
   "version": "3.8.7"
  }
 },
 "nbformat": 4,
 "nbformat_minor": 5
}
