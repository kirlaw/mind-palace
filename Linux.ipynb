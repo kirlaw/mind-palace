{
 "cells": [
  {
   "cell_type": "markdown",
   "id": "sweet-summer",
   "metadata": {},
   "source": [
    "### 1. 项目出问题的故障排除"
   ]
  },
  {
   "cell_type": "markdown",
   "id": "professional-tolerance",
   "metadata": {},
   "source": [
    "### 2.Linux命令\n",
    "\n",
    "- ls 显示当前目录下文件\n",
    "- cd 切换所在目录\n",
    "- pwd 显示当前所在目录\n",
    "- mkdir 创建目录\n",
    "- chmod 修改权限\n",
    "- find 搜索命令\n",
    "\n",
    "    -name 文件名 按照文件名查找\n",
    "\n",
    "    -user 用户名 按照属主用户名查找文件\n",
    "\n",
    "    -group 组名 按照属组组名查找文件\n",
    "\n",
    "    -nouser 找没有属主的文件 (除了这三个文件：/proc、/sys、/mnt/cdrom)\n",
    "\n",
    "    -size 按照文件大小k M  如：find / -size +50k\n",
    "\n",
    "    -type 按照文件类型查找(f=普通  d=目录  l=链接)\n",
    "\n",
    "    -perm 按照权限查找  如：find /root -perm 644\n",
    "\n",
    "    -iname 按照文件名查找，不区分大小写\n",
    "    \n",
    "- ps 显示当前进程的状态\n",
    "\n",
    "    ps -ef | grep 进程关键字  查找指定进程"
   ]
  },
  {
   "cell_type": "markdown",
   "id": "comprehensive-restaurant",
   "metadata": {},
   "source": [
    "### 3. Docker\n",
    "\n",
    "容器化技术，用于支持创建和使用Linux容器。\n",
    "\n",
    "借助 Docker，可将容器当做轻巧、模块化的虚拟机使用。同时，还将获得高度的灵活性，从而实现对容器的高效创建、部署及复制，并能将其从一个环境顺利迁移至另一个环境，从而有助于针对云来优化应用。\n",
    "\n",
    "Docker 技术使用 Linux 内核和内核功能（例如 Cgroups 和 namespaces）来分隔进程，以便各进程相互独立运行。这种独立性正是采用容器的目的所在；它可以独立运行多种进程、多个应用，更加充分地发挥基础设施的作用，同时保持各个独立系统的安全性。\n",
    "\n",
    "容器工具（包括 Docker）可提供基于镜像的部署模式。这使得它能够轻松跨多种环境，与其依赖程序共享应用或服务组。Docker 还可在这一容器环境中自动部署应用（或者合并多种流程，以构建单个应用）。"
   ]
  },
  {
   "cell_type": "code",
   "execution_count": null,
   "id": "lyric-truck",
   "metadata": {},
   "outputs": [],
   "source": []
  }
 ],
 "metadata": {
  "kernelspec": {
   "display_name": "Python 3",
   "language": "python",
   "name": "python3"
  },
  "language_info": {
   "codemirror_mode": {
    "name": "ipython",
    "version": 3
   },
   "file_extension": ".py",
   "mimetype": "text/x-python",
   "name": "python",
   "nbconvert_exporter": "python",
   "pygments_lexer": "ipython3",
   "version": "3.8.7"
  }
 },
 "nbformat": 4,
 "nbformat_minor": 5
}
