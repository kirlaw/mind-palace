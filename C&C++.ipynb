{
 "cells": [
  {
   "cell_type": "markdown",
   "id": "neutral-cameroon",
   "metadata": {},
   "source": [
    "### 1. 下列程序的运行结果是 1 4 3 4 5 ，请为横线处选择合适的程序\n",
    "```c\n",
    "void point(int *p) {\n",
    "\n",
    "    *p=p[2];\n",
    "}\n",
    "main() {\n",
    "    int c[]={1,2,3,4,5},*p=c;\n",
    "    point(p+1);\n",
    "    for(;p<c+5;)\n",
    "        printf(“%d”,____);\n",
    "}\n",
    "```\n",
    "> \\*p++\n",
    "\n",
    "指针变量加1，即向后移动1个位置表示指针变量指向下一个数据元素的首地址。而不是在原地址基础上加1。\n",
    "\n",
    "\n",
    "下面这句代码中，相当于传入point函数的参数是数组第2个元素c\\[1\\]的首地址。\n",
    "\n",
    "\n",
    "point(p+1);\n",
    "\n",
    "\n",
    "因此在函数中：\n",
    "\n",
    "\n",
    "\\*p=p\\[2\\];\n",
    "\n",
    "\n",
    "p\\[2\\]是相对于传入的元素向后移动了两个数据元素的位置，因此这个p\\[2\\]实际是数组中的c\\[3\\]。\n",
    "\n",
    "\n",
    "所以在这里函数的作用是将数组c的第4个元素的值赋值给数组的第2个元素。\n",
    "\n",
    "\n",
    "所以数组变为1,4,3,4,5。下面设法将数组的数据遍历输出即可。\n",
    "\n",
    "\n",
    "\\*p++的作用是先取p指向的值，再将指针向后移动一个数据元素。"
   ]
  },
  {
   "cell_type": "markdown",
   "id": "classical-attendance",
   "metadata": {},
   "source": [
    "### 智能指针\n",
    "\n",
    "在C++中没有垃圾回收机制，必须自己释放分配的内存，否则就会造成内存泄露。解决这个问题最有效的方法是使用智能指针（smart pointer）。智能指针是存储指向动态分配（堆）对象指针的类，用于生存期的控制，能够确保在离开指针所在作用域时，自动地销毁动态分配的对象，防止内存泄露。智能指针的核心实现技术是引用计数，每使用它一次，内部引用计数加1，每析构一次内部的引用计数减1，减为0时，删除所指向的堆内存。\n",
    "\n",
    "C++11中提供了三种智能指针，使用这些智能指针时需要引用头文件$<memory>$\n",
    "\n",
    "- std::shared_ptr：共享的智能指针\n",
    "- std::unique_ptr：独占的智能指针\n",
    "- std::weak_ptr：弱引用的智能指针，它不共享指针，不能操作资源，是用来监视shared_ptr的。\n",
    "\n",
    "https://blog.csdn.net/qq_56673429/article/details/124837626\n"
   ]
  },
  {
   "cell_type": "markdown",
   "id": "educated-denver",
   "metadata": {},
   "source": [
    "### struct 和 class 的区别\n",
    "\n"
   ]
  }
 ],
 "metadata": {
  "kernelspec": {
   "display_name": "Python 3",
   "language": "python",
   "name": "python3"
  },
  "language_info": {
   "codemirror_mode": {
    "name": "ipython",
    "version": 3
   },
   "file_extension": ".py",
   "mimetype": "text/x-python",
   "name": "python",
   "nbconvert_exporter": "python",
   "pygments_lexer": "ipython3",
   "version": "3.8.7"
  }
 },
 "nbformat": 4,
 "nbformat_minor": 5
}
